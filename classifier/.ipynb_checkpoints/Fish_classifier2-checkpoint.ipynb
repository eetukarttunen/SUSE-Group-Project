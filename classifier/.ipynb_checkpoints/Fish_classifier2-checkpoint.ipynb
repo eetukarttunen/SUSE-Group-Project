{
 "cells": [
  {
   "cell_type": "code",
   "execution_count": 79,
   "metadata": {},
   "outputs": [
    {
     "name": "stdout",
     "output_type": "stream",
     "text": [
      "C:\\Users\\Juuso Paakkunainen\\Documents\\SUSE\\classifier\n"
     ]
    }
   ],
   "source": [
    "from fastai.vision.all import *\n",
    "from fastai.text.all import *\n",
    "from fastai.collab import *\n",
    "from fastai.tabular.all import *\n",
    "import numpy as np\n",
    "from pathlib import Path\n",
    "import os\n",
    "\n",
    "np.random.seed(100)\n",
    "\n",
    "#Name of categories\n",
    "#Five different freshwater fish species\n",
    "categories = [\"Red Mullet\", \"Red Sea Bream\", \"Sea Bass\", \"Shrimp\", \"Striped Red Mullet\", \"Trout\"]\n",
    "\n",
    "#Define working folder\n",
    "working_folder = %pwd\n",
    "\n",
    "working_folder = Path(working_folder)\n",
    "print(working_folder)"
   ]
  },
  {
   "cell_type": "code",
   "execution_count": 80,
   "metadata": {},
   "outputs": [
    {
     "ename": "NameError",
     "evalue": "name 'ImageDataBunch' is not defined",
     "output_type": "error",
     "traceback": [
      "\u001b[1;31m---------------------------------------------------------------------------\u001b[0m",
      "\u001b[1;31mNameError\u001b[0m                                 Traceback (most recent call last)",
      "\u001b[1;32mC:\\Users\\JUUSOP~1\\AppData\\Local\\Temp/ipykernel_12768/918500451.py\u001b[0m in \u001b[0;36m<module>\u001b[1;34m\u001b[0m\n\u001b[0;32m      1\u001b[0m \u001b[1;31m#Define databunch, use all data as we are interested in filtering out nonsens images\u001b[0m\u001b[1;33m\u001b[0m\u001b[1;33m\u001b[0m\u001b[0m\n\u001b[1;32m----> 2\u001b[1;33m rawdata = ImageDataBunch.from_folder(working_folder, train=\".\", valid_pct=0,\n\u001b[0m\u001b[0;32m      3\u001b[0m         ds_tfms=get_transforms(), bs = 32, size=224, num_workers=4).normalize(imagenet_stats)\n\u001b[0;32m      4\u001b[0m \u001b[1;33m\u001b[0m\u001b[0m\n\u001b[0;32m      5\u001b[0m \u001b[1;31m#Define learner and fit 5 epochs\u001b[0m\u001b[1;33m\u001b[0m\u001b[1;33m\u001b[0m\u001b[0m\n",
      "\u001b[1;31mNameError\u001b[0m: name 'ImageDataBunch' is not defined"
     ]
    }
   ],
   "source": [
    "#Define databunch, use all data as we are interested in filtering out nonsens images\n",
    "rawdata = ImageDataBunch.from_folder(working_folder, train=\".\", valid_pct=0,\n",
    "        ds_tfms=get_transforms(), bs = 32, size=224, num_workers=4).normalize(imagenet_stats)\n",
    "        \n",
    "#Define learner and fit 5 epochs\n",
    "learn = cnn_learner(rawdata, models.resnet34, metrics=error_rate)\n",
    "learn.fit_one_cycle(5)\n",
    "\n",
    "#Use image cleaner widget to delete or re-categorise images. \n",
    "#Paths and labels of the \"cleaned\" dataset are available in the cleaned.csv file. \n",
    "ds, idxs = DatasetFormatter().from_toplosses(learn)\n",
    "ImageCleaner(ds, idxs, working_folder)"
   ]
  },
  {
   "cell_type": "code",
   "execution_count": null,
   "metadata": {},
   "outputs": [],
   "source": []
  }
 ],
 "metadata": {
  "kernelspec": {
   "display_name": "Python 3 (ipykernel)",
   "language": "python",
   "name": "python3"
  },
  "language_info": {
   "codemirror_mode": {
    "name": "ipython",
    "version": 3
   },
   "file_extension": ".py",
   "mimetype": "text/x-python",
   "name": "python",
   "nbconvert_exporter": "python",
   "pygments_lexer": "ipython3",
   "version": "3.9.7"
  },
  "vscode": {
   "interpreter": {
    "hash": "db9ae8cfb15908488e4c1bc38e2866b41e777253bd060091606ec4b16daba32c"
   }
  }
 },
 "nbformat": 4,
 "nbformat_minor": 2
}
